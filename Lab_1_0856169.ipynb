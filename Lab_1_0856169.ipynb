{
  "nbformat": 4,
  "nbformat_minor": 0,
  "metadata": {
    "colab": {
      "name": "「NLP109_Lab_1.ipynb」0856169",
      "provenance": [],
      "collapsed_sections": []
    },
    "kernelspec": {
      "name": "python3",
      "display_name": "Python 3"
    }
  },
  "cells": [
    {
      "cell_type": "markdown",
      "metadata": {
        "id": "T4-J5jkcatiQ"
      },
      "source": [
        "**Lab1 Reminder: **\n",
        "1. Use small data to develop your code.\n",
        "2. Relink to the demomstration code can check the output."
      ]
    },
    {
      "cell_type": "code",
      "metadata": {
        "colab": {
          "base_uri": "https://localhost:8080/"
        },
        "id": "QqVxwKpgCe0a",
        "outputId": "fb07b2cb-4079-4ee0-e431-b5729e3c002f"
      },
      "source": [
        "# For debugging\n",
        "import pdb\n",
        "\n",
        "# For checking progress\n",
        "from tqdm import tqdm\n",
        "\n",
        "# For loading data\n",
        "import pandas as pd\n",
        "\n",
        "# For tokenizaton\n",
        "import nltk\n",
        "from nltk import word_tokenize, sent_tokenize\n",
        "nltk.download('punkt')\n",
        "\n",
        "# For building n-gram model\n",
        "from collections import Counter, namedtuple\n",
        "import numpy as np\n",
        "\n",
        "# For pos tagging\n",
        "nltk.download('averaged_perceptron_tagger')"
      ],
      "execution_count": 1,
      "outputs": [
        {
          "output_type": "stream",
          "text": [
            "[nltk_data] Downloading package punkt to /root/nltk_data...\n",
            "[nltk_data]   Package punkt is already up-to-date!\n",
            "[nltk_data] Downloading package averaged_perceptron_tagger to\n",
            "[nltk_data]     /root/nltk_data...\n",
            "[nltk_data]   Package averaged_perceptron_tagger is already up-to-\n",
            "[nltk_data]       date!\n"
          ],
          "name": "stdout"
        },
        {
          "output_type": "execute_result",
          "data": {
            "text/plain": [
              "True"
            ]
          },
          "metadata": {
            "tags": []
          },
          "execution_count": 1
        }
      ]
    },
    {
      "cell_type": "markdown",
      "metadata": {
        "id": "r4r6vYRwwV6m"
      },
      "source": [
        "# Part 1. Data Preprocessing\n",
        "1. show the top-10 common words and their counts before/after preprocessing\n",
        "\n",
        "\n"
      ]
    },
    {
      "cell_type": "markdown",
      "metadata": {
        "id": "WXl7m78Oxz9d"
      },
      "source": [
        "## Functions and Classes\n",
        "*  Remove the punctuations\n",
        "*  Lower the cases\n",
        "\n"
      ]
    },
    {
      "cell_type": "code",
      "metadata": {
        "id": "Fy2bDYorrKxW"
      },
      "source": [
        "def get_corpus():\n",
        "  \"\"\" Reads and formats the corpus.\n",
        "\n",
        "  Returns:\n",
        "    corpus (list[str]):\n",
        "      A list of sentences in the corpus.\n",
        "  \"\"\"\n",
        "  df = pd.read_csv('https://raw.githubusercontent.com/yunzhusong/NLP109/main/lab1_data.csv')\n",
        "  corpus = df.content.to_list()\n",
        "  return corpus"
      ],
      "execution_count": 2,
      "outputs": []
    },
    {
      "cell_type": "code",
      "metadata": {
        "id": "cqW8SUq_xzCm"
      },
      "source": [
        "def preprocess(documents):\n",
        "  \"\"\" Preprocesses the corpus.\n",
        "  \n",
        "  Args:\n",
        "    documents (list[str]):\n",
        "      A list of sentences in the corpus.\n",
        "  Returns:\n",
        "    cleaned_documents (list[str]):\n",
        "      A list of cleaned sentences in the corpus.\n",
        "  \"\"\"\n",
        "  cleaned_documents = []\n",
        "  punc = '''!()-[]{};:'\"\\,<>./?@#$%^&*_~”'''\n",
        "\n",
        "  for doc in documents:\n",
        "    # Tokenizes the sentence\n",
        "    sents = sent_tokenize(doc)\n",
        "\n",
        "    for sent in sents:\n",
        "      #pdb.set_trace() # delete this line for the final version\n",
        "\n",
        "      # Removes the punctuations, hint: recursively remove in character level\n",
        "      for p in punc:\n",
        "        sent = sent.replace(p, ' ')\n",
        "\n",
        "      # Lowers the case, \n",
        "      sent = sent.lower()\n",
        "      \n",
        "      cleaned_documents.append(sent)\n",
        "    \n",
        "\n",
        "  #print(cleaned_documents[:5])\n",
        "  return cleaned_documents"
      ],
      "execution_count": 3,
      "outputs": []
    },
    {
      "cell_type": "code",
      "metadata": {
        "id": "LLxv8uXpxvC2"
      },
      "source": [
        "# Compute word frequency\n",
        "def get_vocab(documents):\n",
        "  \"\"\" Gets the vocabulary from the corpus.\n",
        "  \n",
        "  Args:\n",
        "    documents (list[str]):\n",
        "      A list of sentences in the corpus\n",
        "  Returns:\n",
        "    vocabulary (collections.Counter)\n",
        "  \"\"\"\n",
        "  vocabulary = Counter()\n",
        "\n",
        "  for doc in tqdm(documents):\n",
        "    tokens = word_tokenize(doc)\n",
        "    vocabulary.update(tokens)\n",
        "\n",
        "  return vocabulary"
      ],
      "execution_count": 4,
      "outputs": []
    },
    {
      "cell_type": "markdown",
      "metadata": {
        "id": "0Au2w1vJjHqP"
      },
      "source": [
        "## Executions"
      ]
    },
    {
      "cell_type": "markdown",
      "metadata": {
        "id": "IkCSSWp3j65G"
      },
      "source": [
        "### 1. Show the top-10 common words and their counts before/after preprocessing\n"
      ]
    },
    {
      "cell_type": "code",
      "metadata": {
        "colab": {
          "base_uri": "https://localhost:8080/"
        },
        "id": "Ib6Do0qmKbyt",
        "outputId": "089992a5-cdae-41e0-bb58-2551a0720a57"
      },
      "source": [
        "# Read data\n",
        "raw_documents = get_corpus()\n",
        "\n",
        "# Build vocabulary\n",
        "vocab = get_vocab(raw_documents).most_common(10)\n",
        "print('\\n Before preprocessing:', vocab)"
      ],
      "execution_count": 5,
      "outputs": [
        {
          "output_type": "stream",
          "text": [
            "100%|██████████| 100000/100000 [00:21<00:00, 4560.49it/s]"
          ],
          "name": "stderr"
        },
        {
          "output_type": "stream",
          "text": [
            "\n",
            " Before preprocessing: [('.', 85947), ('the', 49772), (',', 39728), ('to', 34407), ('!', 33580), ('a', 28765), ('is', 26339), ('?', 24057), ('and', 22890), ('of', 22542)]\n"
          ],
          "name": "stdout"
        },
        {
          "output_type": "stream",
          "text": [
            "\n"
          ],
          "name": "stderr"
        }
      ]
    },
    {
      "cell_type": "code",
      "metadata": {
        "colab": {
          "base_uri": "https://localhost:8080/"
        },
        "id": "sEDgtK3RxFXt",
        "outputId": "0973722f-269f-4a4e-a92f-c57924985ee8"
      },
      "source": [
        "# Build vocabulary after preprocessing\n",
        "documents = preprocess(raw_documents)\n",
        "vocab = get_vocab(documents).most_common(10)\n",
        "print('\\n After preprocesing:', vocab)"
      ],
      "execution_count": 6,
      "outputs": [
        {
          "output_type": "stream",
          "text": [
            "100%|██████████| 175323/175323 [00:19<00:00, 9067.52it/s]"
          ],
          "name": "stderr"
        },
        {
          "output_type": "stream",
          "text": [
            "\n",
            " After preprocesing: [('the', 56446), ('to', 35130), ('a', 30363), ('you', 29262), ('is', 27200), ('and', 25790), ('of', 23117), ('it', 19647), ('i', 18268), ('that', 17711)]\n"
          ],
          "name": "stdout"
        },
        {
          "output_type": "stream",
          "text": [
            "\n"
          ],
          "name": "stderr"
        }
      ]
    },
    {
      "cell_type": "markdown",
      "metadata": {
        "id": "N-mCeiF3inh-"
      },
      "source": [
        "# Part 2. N-Gram Model and POS Tagging\n",
        "1. Build 2-gram / 4-gram model by processed dataset\n",
        "2. Show the top-5 probable next words and their probability after initial token ‘\\<s\\>’ by 2-gram model\n",
        "3. Generate a sentence with 2-gram model and find the POS taggings\n",
        "4. Generate a sentence with 4-gram model and find the POS taggings\n",
        "\n",
        "\n"
      ]
    },
    {
      "cell_type": "markdown",
      "metadata": {
        "id": "Q7MRk6EMjlKL"
      },
      "source": [
        "## Functions and Classes"
      ]
    },
    {
      "cell_type": "code",
      "metadata": {
        "colab": {
          "base_uri": "https://localhost:8080/"
        },
        "id": "ihPoU84kSv45",
        "outputId": "acf8c196-da3d-43a7-f5b5-dbeca4d2733a"
      },
      "source": [
        "t = word_tokenize(' the input text {} not in the vocabulary')\n",
        "type(t)"
      ],
      "execution_count": 7,
      "outputs": [
        {
          "output_type": "execute_result",
          "data": {
            "text/plain": [
              "list"
            ]
          },
          "metadata": {
            "tags": []
          },
          "execution_count": 7
        }
      ]
    },
    {
      "cell_type": "code",
      "metadata": {
        "id": "nsStQG516jC6"
      },
      "source": [
        "class Ngram_model(object):\n",
        "  \"\"\" Ngram model implementation.\n",
        "\n",
        "  Attributes:\n",
        "    n (int):\n",
        "      The number of grams to be considered.\n",
        "    model (dict):\n",
        "      The ngram model.\n",
        "  \"\"\"\n",
        "  def __init__(self, documents, N=2):\n",
        "    self.n = N\n",
        "    self.model = self.get_ngram_model(documents)\n",
        "\n",
        "  def get_ngram_model(self, documents):\n",
        "    N = self.n\n",
        "    ngram_model = dict()\n",
        "    full_grams = list()\n",
        "    grams = list()\n",
        "    Word = namedtuple('Word', ['word', 'prob'])\n",
        "\n",
        "    # clean documents\n",
        "    documents = preprocess(documents)\n",
        "    c = 0\n",
        "    # for each sentence in documents\n",
        "    for sentence in documents:\n",
        "      \n",
        "      # Tokenizes to words\n",
        "      tokens = word_tokenize(sentence)\n",
        "      # print(tokens)\n",
        "\n",
        "      # Append (N-1) start tokens '<s>' and an end token '<\\s>'\n",
        "      for i in range(1,N):\n",
        "        # append in start\n",
        "        tokens = ['<s>'] + tokens\n",
        "      \n",
        "      # append in end\n",
        "      tokens = tokens + ['<\\s>']\n",
        "      # print(tokens)\n",
        "\n",
        "      # Calculates numerator (construct list with full grams, i.e., N-grams)\n",
        "      for i in range(0,len(tokens)-(N-1)):\n",
        "        full_grams.append(tuple(tokens[i:i+(N)]))\n",
        "      \n",
        "\n",
        "      # Calculate denominator (construct list with grams, i.e., (N-1)-grams)\n",
        "      for i in range(0,len(tokens)-(N-1)):\n",
        "        grams.append(tuple(tokens[i:i+(N-1)]))\n",
        "      \n",
        "\n",
        "      # c=c+1\n",
        "      # if c >5 :\n",
        "      #   print('full_grams', full_grams)\n",
        "      #   print('grams', grams)\n",
        "      #   raise 'debug'\n",
        "      \n",
        "    # Count the occurence frequency of each gram\n",
        "    # Take 2-gram model as example:\n",
        "    #   full_grams -> list[('a', 'gram'),('other', 'gram'), ...]\n",
        "    #   grams -> list[('a'), ('other'), ('gram'), ...]\n",
        "    #   full_gram_counter -> dict{('a', 'gram'):frequency_1, ('other','gram'):frequency_2, ...}\n",
        "    #   gram_counter -> dict{('a'):frequency_1, ('gram'):frequency_2, ...}\n",
        "    full_gram_counter = Counter(full_grams)\n",
        "    gram_counter = Counter(grams)\n",
        "\n",
        "    # Build model\n",
        "    # Take 2-gram model as example:\n",
        "    #   { '<s>': [tuple(word='i', prob=0.6), tuple(word='the', prob=0.2), ...],\n",
        "    #   'i': [tuple(word='am', prob=0.7), tuple(word='want', prob=0.1), ...],\n",
        "    #    ... }\n",
        "    for key in full_gram_counter:\n",
        "      word = ''.join(key[:N-1])\n",
        "\n",
        "      if word not in ngram_model:\n",
        "        ngram_model.update({word: set()})\n",
        "\n",
        "      # next_word_prob -> float\n",
        "      # print('-----')\n",
        "      # print(key)\n",
        "      # print('full_gram_counter[key]', full_gram_counter[key])\n",
        "      # print('key[:N-1]', key[:N-1])\n",
        "      # print('gram_counter[key[:N-1]]', gram_counter[key[:N-1]])\n",
        "      next_word_prob = full_gram_counter[key] / gram_counter[key[:N-1]]\n",
        "      w = Word(key[-1], next_word_prob)\n",
        "      ngram_model[word].add(w)\n",
        "\n",
        "    # Sort the result by frequency\n",
        "    for word, ng in ngram_model.items():\n",
        "      ngram_model[word] = sorted(ng, key=lambda x: x.prob, reverse=True)\n",
        "\n",
        "    return ngram_model\n",
        "\n",
        "\n",
        "  def predict_sent(self, text=None, max_len=30):\n",
        "    \"\"\" Predicts a sentence with the ngram model.\n",
        "\n",
        "    Args:\n",
        "      text (string or list[string])\n",
        "    Returns:\n",
        "      A prediction string.\n",
        "    \"\"\"\n",
        "\n",
        "    N = self.n\n",
        "    backup_tokens = ['<s>']*(N-1)\n",
        "    if not text:\n",
        "      tokens = backup_tokens\n",
        "      output = []\n",
        "\n",
        "    elif type(text)==str:\n",
        "      tokens = backup_tokens + text.split(' ')\n",
        "      tokens = tokens[-(N-1):]\n",
        "      if not self.check_existence(tokens):\n",
        "        return \n",
        "      output = tokens\n",
        "\n",
        "    elif type(text) == list:\n",
        "      tokens = backup_tokens + text\n",
        "      tokens = tokens[-(N-1):]\n",
        "      if not self.check_existence(tokens):\n",
        "        return\n",
        "      output = tokens\n",
        "\n",
        "    else:\n",
        "      print('[Error] the input text must be string or list of string')\n",
        "      return\n",
        "\n",
        "    for i in range(max_len):\n",
        "      possible_words = list(self.model[''.join(tokens)])\n",
        "      probs = [word.prob for word in possible_words]\n",
        "      words = [word.word for word in possible_words]\n",
        "      next_word = np.random.choice(words, 1, p=probs)[0]\n",
        "      tokens = tokens[1:] + [next_word]\n",
        "\n",
        "      if next_word == '<\\\\s>':\n",
        "        break\n",
        "\n",
        "      output.append(next_word)\n",
        "    return ' '.join(output)\n",
        "\n",
        "  def predict_next(self, text=None, top=5):\n",
        "    \"\"\" Predicts next word with the ngram model.\n",
        "\n",
        "    Args:\n",
        "      text (string or list[string])\n",
        "\n",
        "    Returns:\n",
        "      possible_next_words (list[namedtuple]):\n",
        "        A list of top few possible next words.\n",
        "    \"\"\"\n",
        "\n",
        "    N = self.n\n",
        "    backup_tokens = ['<s>']*(N-1)\n",
        "    if not text:\n",
        "      tokens = backup_tokens\n",
        "\n",
        "    elif type(text)==str:\n",
        "      tokens = backup_tokens + text.split(' ')\n",
        "      tokens = tokens[-(N-1):]\n",
        "      if not self.check_existence(tokens):\n",
        "        return \n",
        "\n",
        "    elif type(text) == list:\n",
        "      tokens = backup_tokens + text\n",
        "      tokens = tokens[-(N-1):]\n",
        "      if not self.check_existence(tokens):\n",
        "        return\n",
        "    else:\n",
        "      print('[Error] the input text must be string or list of string')\n",
        "\n",
        "    possible_next_words = self.model[''.join(tokens)][:top]\n",
        "    possible_next_words = [(word.word, word.prob) for word in possible_next_words]\n",
        "\n",
        "    return possible_next_words\n",
        "\n",
        "  def check_existence(self, tokens):\n",
        "    if not ''.join(tokens) in self.model.keys():\n",
        "      print('[Error] the input text {} not in the vocabulary'.format(tokens))\n",
        "      return False\n",
        "    else:\n",
        "      return True"
      ],
      "execution_count": 8,
      "outputs": []
    },
    {
      "cell_type": "markdown",
      "metadata": {
        "id": "5_CgC8RKjhd0"
      },
      "source": [
        "## Executions"
      ]
    },
    {
      "cell_type": "markdown",
      "metadata": {
        "id": "WcJhv21YCE8I"
      },
      "source": [
        "### 1. Build 2-gram/4-gram model by processed dataset"
      ]
    },
    {
      "cell_type": "code",
      "metadata": {
        "id": "h17uKROx-FZG"
      },
      "source": [
        "twogram = Ngram_model(documents, N=2)\n",
        "fourgram = Ngram_model(documents, N=4)"
      ],
      "execution_count": 9,
      "outputs": []
    },
    {
      "cell_type": "markdown",
      "metadata": {
        "id": "QOV203H4CNg7"
      },
      "source": [
        "### 2. Show the top-5 probable next words and their probability after initial token \\'\\<s\\>\\'  by 2-gram model"
      ]
    },
    {
      "cell_type": "code",
      "metadata": {
        "colab": {
          "base_uri": "https://localhost:8080/"
        },
        "id": "CoD7wcAJ-PYm",
        "outputId": "58d1b68a-8324-42d7-f8df-f37816a39c89"
      },
      "source": [
        "output = twogram.predict_next(text='<s>', top=5)\n",
        "print('Next word predictions of two gram model:', output)"
      ],
      "execution_count": 10,
      "outputs": [
        {
          "output_type": "stream",
          "text": [
            "Next word predictions of two gram model: [('i', 0.06051596646571213), ('you', 0.036854747550866616), ('the', 0.031968255463451396), ('it', 0.022130510550113038), ('they', 0.021053127354935947)]\n"
          ],
          "name": "stdout"
        }
      ]
    },
    {
      "cell_type": "markdown",
      "metadata": {
        "id": "C51gJXJO7JBi"
      },
      "source": [
        "### 3. Generate a sentence with 2-gram model and find the POS taggings\n",
        "\n"
      ]
    },
    {
      "cell_type": "code",
      "metadata": {
        "colab": {
          "base_uri": "https://localhost:8080/"
        },
        "id": "CBvwvE6q7Vpl",
        "outputId": "a5066cda-cfcf-4407-bdd2-fa07ecf5635d"
      },
      "source": [
        "output = twogram.predict_sent(max_len=30)\n",
        "print('Generation results of two gram model:', output)\n",
        "nltk.pos_tag(word_tokenize(output))"
      ],
      "execution_count": 11,
      "outputs": [
        {
          "output_type": "stream",
          "text": [
            "Generation results of two gram model: yup yup it at the evidence that brother who this\n"
          ],
          "name": "stdout"
        },
        {
          "output_type": "execute_result",
          "data": {
            "text/plain": [
              "[('yup', 'RB'),\n",
              " ('yup', 'VBZ'),\n",
              " ('it', 'PRP'),\n",
              " ('at', 'IN'),\n",
              " ('the', 'DT'),\n",
              " ('evidence', 'NN'),\n",
              " ('that', 'IN'),\n",
              " ('brother', 'NN'),\n",
              " ('who', 'WP'),\n",
              " ('this', 'DT')]"
            ]
          },
          "metadata": {
            "tags": []
          },
          "execution_count": 11
        }
      ]
    },
    {
      "cell_type": "markdown",
      "metadata": {
        "id": "DtlOaSlW73wT"
      },
      "source": [
        "### 4. Generate a sentence with 4-gram model and find the POS taggings\n",
        "\n"
      ]
    },
    {
      "cell_type": "code",
      "metadata": {
        "colab": {
          "base_uri": "https://localhost:8080/"
        },
        "id": "ts-Fcd6y74C-",
        "outputId": "719b2d66-42fd-4292-85dd-da18ae956da8"
      },
      "source": [
        "output = fourgram.predict_sent(max_len=30)\n",
        "print('Generation results of four gram model: ', output)\n",
        "nltk.pos_tag(word_tokenize(output))"
      ],
      "execution_count": 12,
      "outputs": [
        {
          "output_type": "stream",
          "text": [
            "Generation results of four gram model:  keep digging\n"
          ],
          "name": "stdout"
        },
        {
          "output_type": "execute_result",
          "data": {
            "text/plain": [
              "[('keep', 'VB'), ('digging', 'NN')]"
            ]
          },
          "metadata": {
            "tags": []
          },
          "execution_count": 12
        }
      ]
    }
  ]
}