{
  "nbformat": 4,
  "nbformat_minor": 0,
  "metadata": {
    "colab": {
      "name": "「NLP109_Lab_3.ipynb」的副本0856169",
      "provenance": [],
      "collapsed_sections": []
    },
    "kernelspec": {
      "name": "python3",
      "display_name": "Python 3"
    }
  },
  "cells": [
    {
      "cell_type": "markdown",
      "metadata": {
        "id": "mRNhSK7LgEIS"
      },
      "source": [
        "## Components of an HMM\n",
        "An HMM has three sets of trainable parameters.\n",
        "\n",
        "<img src=\"https://ppt.cc/fOUtex@.png\" alt=\"drawing\" width=\"500\"/>\n"
      ]
    },
    {
      "cell_type": "markdown",
      "metadata": {
        "id": "7Pu3zm77vXwp"
      },
      "source": [
        "- The **transition model** is a square matrix $A$, where $A_{s', s}$ represents $p(z_t = s'|z_{t-1} = s)$, the probability of jumping from state $s$ to state $s'$. \n",
        "\n",
        "- The **emission model** $b_s(x_t)$ tells us $p(x_t|z_t = s)$, the probability of generating $x_t$ when the system is in state $s$. For discrete observations, the emission model is just a lookup table, with one row for each state, and one column for each observation. \n",
        "\n",
        "- The **state priors** tell us $p(z_1 = s)$, the probability of starting in state $s$. We use $\\pi$ to denote the vector of state priors, so $\\pi_s$ is the state prior for state $s$."
      ]
    },
    {
      "cell_type": "code",
      "metadata": {
        "id": "aZbW6Pj0og7K"
      },
      "source": [
        "import string\n",
        "import numpy as np\n",
        "import matplotlib.pyplot as plt\n",
        "import seaborn as sns\n",
        "import torch\n",
        "sns.set_theme()\n",
        "\n",
        "class HMM(torch.nn.Module):\n",
        "  \"\"\"\n",
        "  Hidden Markov Model with discrete observations.\n",
        "  \"\"\"\n",
        "  def __init__(self, M, N):\n",
        "    super(HMM, self).__init__()\n",
        "    self.M = M # number of possible observations\n",
        "    self.N = N # number of states\n",
        "\n",
        "    # A\n",
        "    self.transition_model = TransitionModel(self.N)\n",
        "\n",
        "    # b(x_t)\n",
        "    self.emission_model = EmissionModel(self.N,self.M)\n",
        "\n",
        "    # pi\n",
        "    self.unnormalized_state_priors = torch.nn.Parameter(torch.randn(self.N))\n",
        "  \n",
        "  def ppp(self):\n",
        "    print('123')\n",
        "\n",
        "class TransitionModel(torch.nn.Module):\n",
        "  def __init__(self, N):\n",
        "    super(TransitionModel, self).__init__()\n",
        "    self.N = N\n",
        "    self.unnormalized_transition_matrix = torch.nn.Parameter(torch.randn(N,N))\n",
        "\n",
        "  def set_matrix(self, tor):\n",
        "    self.unnormalized_transition_matrix = torch.nn.Parameter(tor)\n",
        "\n",
        "class EmissionModel(torch.nn.Module):\n",
        "  def __init__(self, N, M):\n",
        "    super(EmissionModel, self).__init__()\n",
        "    self.N = N\n",
        "    self.M = M\n",
        "    self.unnormalized_emission_matrix = torch.nn.Parameter(torch.randn(N,M))\n",
        "\n",
        "  def set_matrix(self, tor):\n",
        "    self.unnormalized_emission_matrix = torch.nn.Parameter(tor)\n"
      ],
      "execution_count": 84,
      "outputs": []
    },
    {
      "cell_type": "markdown",
      "metadata": {
        "id": "eom3ueYtpXGo"
      },
      "source": [
        "## Sample Function\n",
        "To sample from the HMM, we start by picking a random initial state from the state prior distribution.\n",
        "\n",
        "Then, we sample an output from the emission distribution, sample a transition from the transition distribution, and repeat.\n",
        "\n",
        "(Notice that we pass the unnormalized model parameters through a softmax function to make them into probabilities.)\n"
      ]
    },
    {
      "cell_type": "code",
      "metadata": {
        "id": "BpgkwNyVwmyM"
      },
      "source": [
        "def sample(self, T=10):\n",
        "  # Pass the parameters with softmax layer to get probability\n",
        "  state_priors = torch.nn.functional.softmax(self.unnormalized_state_priors, dim=0)\n",
        "  transition_matrix = torch.nn.functional.softmax(self.transition_model.unnormalized_transition_matrix, dim=0)\n",
        "  emission_matrix = torch.nn.functional.softmax(self.emission_model.unnormalized_emission_matrix, dim=1)\n",
        "\n",
        "  # sample initial state\n",
        "  z_t = torch.distributions.categorical.Categorical(state_priors).sample().item()\n",
        "  z = []; x = []  # z現在的狀態 輸出\n",
        "  z.append(z_t)\n",
        "  for t in range(0,T):\n",
        "    # sample emission\n",
        "    ########## [TODO](Hint: use emission matrix) ##########\n",
        "    x_t = torch.distributions.categorical.Categorical(emission_matrix[z_t]).sample().item()\n",
        "    #############################\n",
        "    x.append(x_t)\n",
        "\n",
        "    # sample transition\n",
        "    ########## [TODO](Hint: use transition matrix) ##########\n",
        "    z_t = torch.distributions.categorical.Categorical(transition_matrix[z_t]).sample().item()\n",
        "    #############################\n",
        "    if t < T-1: z.append(z_t)\n",
        "\n",
        "  return x, z\n",
        "\n",
        "# Add the sampling method to our HMM class\n",
        "HMM.sample = sample"
      ],
      "execution_count": 85,
      "outputs": []
    },
    {
      "cell_type": "markdown",
      "metadata": {
        "id": "ohsdYScawkRG"
      },
      "source": [
        "## Set Model Parameters\n",
        "\n",
        "Assume that the system has one state for generating vowels and one state for generating consonants, and the transition matrix has 0s on the diagonal. In other words, the system cannot stay in the vowel state or the consonant state for more than one timestep.\n",
        "\n",
        "Since we pass the transition matrix through a softmax, to get 0s you should set the unnormalized parameter values to $-\\infty$."
      ]
    },
    {
      "cell_type": "code",
      "metadata": {
        "id": "eyR7yv_3sBG3",
        "colab": {
          "base_uri": "https://localhost:8080/",
          "height": 811
        },
        "outputId": "8515118f-ef7a-421a-dc5e-a6b9b3546831"
      },
      "source": [
        "# Initialize the model\n",
        "# The parameters are actually trainable with EM algorithm,\n",
        "# but we do not implement it in this lab.\n",
        "alphabet = string.ascii_lowercase\n",
        "model = HMM(M=len(alphabet), N=2) \n",
        "model.ppp()\n",
        "\n",
        "for p in model.parameters():\n",
        "    p.requires_grad = False \n",
        "\n",
        "# Let state 0 = consonant, state 1 = vowel\n",
        "sns.set(rc={'figure.figsize':(5,4)})\n",
        "########## [TODO] (Hint: consider prior) ##########\n",
        "st = model.unnormalized_state_priors\n",
        "st[0] = 1\n",
        "st[1] = 0\n",
        "###################################################\n",
        "print(\"State priors:\")\n",
        "sns.heatmap(torch.nn.functional.softmax(model.unnormalized_state_priors, dim=0).unsqueeze(-1).numpy(),\n",
        "            xticklabels=False,\n",
        "            yticklabels=['consonant','vowel'],\n",
        "            annot=True)\n",
        "plt.show()\n",
        "\n",
        "\n",
        "# In state 0, only allow consonants; in state 1, only allow vowels\n",
        "sns.set(rc={'figure.figsize':(24,4)})\n",
        "########## [TODO] (Hint: consider emission_model) ##########\n",
        "W = model.emission_model.unnormalized_emission_matrix\n",
        "for i in range(len(alphabet)):\n",
        "  if alphabet[i] in 'aeiou':\n",
        "    W[0][i] = -np.Inf\n",
        "  else:\n",
        "    W[1][i] = -np.Inf\n",
        "\n",
        "############################################################\n",
        "print(\"Emission matrix:\")\n",
        "sns.heatmap(torch.nn.functional.softmax(model.emission_model.unnormalized_emission_matrix, dim=1).numpy(),\n",
        "            xticklabels=['a','b','c','d','e','f','g','h','i','j','k','l','m','n','o','p','q','r','s','t','u','v','w','x','y','z'],\n",
        "            yticklabels=['consonant','vowel'],\n",
        "            annot=True)\n",
        "plt.show()\n",
        "\n",
        "\n",
        "# Only allow vowel -> consonant and consonant -> vowel\n",
        "sns.set(rc={'figure.figsize':(5,4)})\n",
        "########## [TODO] (Hint: consider transition model) ##########\n",
        "x = model.transition_model.unnormalized_transition_matrix\n",
        "x[0][0] = -np.Inf\n",
        "x[0][1] = 1\n",
        "x[1][0] = 1\n",
        "x[1][1] = -np.Inf\n",
        "#model.transition_model.set_matrix(torch.tensor([[-np.Inf,1],[1,-np.Inf]], dtype=torch.float64, requires_grad=True))\n",
        "#print(model.transition_model.unnormalized_transition_matrix)\n",
        "#####################################################\n",
        "print(\"Transition matrix:\")\n",
        "sns.heatmap(torch.nn.functional.softmax(model.transition_model.unnormalized_transition_matrix, dim=0).numpy(),\n",
        "            xticklabels=['consonant','vowel'],\n",
        "            yticklabels=['consonant','vowel'],\n",
        "            annot=True)\n",
        "plt.show()"
      ],
      "execution_count": 86,
      "outputs": [
        {
          "output_type": "stream",
          "text": [
            "123\n",
            "State priors:\n"
          ],
          "name": "stdout"
        },
        {
          "output_type": "display_data",
          "data": {
            "image/png": "[encoded data removed]",
            "text/plain": [
              "<Figure size 360x288 with 2 Axes>"
            ]
          },
          "metadata": {
            "tags": []
          }
        },
        {
          "output_type": "stream",
          "text": [
            "Emission matrix:\n"
          ],
          "name": "stdout"
        },
        {
          "output_type": "display_data",
          "data": {
            "image/png": "[encoded data removed]",
            "text/plain": [
              "<Figure size 1728x288 with 2 Axes>"
            ]
          },
          "metadata": {
            "tags": []
          }
        },
        {
          "output_type": "stream",
          "text": [
            "Transition matrix:\n"
          ],
          "name": "stdout"
        },
        {
          "output_type": "display_data",
          "data": {
            "image/png": "[encoded data removed]",
            "text/plain": [
              "<Figure size 360x288 with 2 Axes>"
            ]
          },
          "metadata": {
            "tags": []
          }
        }
      ]
    },
    {
      "cell_type": "markdown",
      "metadata": {
        "id": "KFaYq8jDttmi"
      },
      "source": [
        "## Sample Fake Words"
      ]
    },
    {
      "cell_type": "code",
      "metadata": {
        "id": "8latFMD7ua0X",
        "colab": {
          "base_uri": "https://localhost:8080/"
        },
        "outputId": "20838556-c461-4d33-a564-80525787339c"
      },
      "source": [
        "def encode(s):\n",
        "  \"\"\"\n",
        "  Convert a string into a list of integers\n",
        "  \"\"\"\n",
        "  x = [alphabet.index(ss) for ss in s]\n",
        "  return x\n",
        "\n",
        "def decode(x):\n",
        "  \"\"\"\n",
        "  Convert list of ints to string\n",
        "  \"\"\"\n",
        "  s = \"\".join([alphabet[xx] for xx in x])\n",
        "  return s\n",
        "\n",
        "# Sample some outputs\n",
        "for _ in range(4):\n",
        "  sampled_x, sampled_z = model.sample(T=5)\n",
        "  print(\"x:\", decode(sampled_x))\n",
        "  print(\"z:\", sampled_z)"
      ],
      "execution_count": 89,
      "outputs": [
        {
          "output_type": "stream",
          "text": [
            "x: toras\n",
            "z: [0, 1, 0, 1, 0]\n",
            "x: qaheh\n",
            "z: [0, 1, 0, 1, 0]\n",
            "x: oholu\n",
            "z: [1, 0, 1, 0, 1]\n",
            "x: tunen\n",
            "z: [0, 1, 0, 1, 0]\n"
          ],
          "name": "stdout"
        }
      ]
    }
  ]
}